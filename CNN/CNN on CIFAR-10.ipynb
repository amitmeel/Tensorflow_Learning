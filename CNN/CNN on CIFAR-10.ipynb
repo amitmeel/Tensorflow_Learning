{
 "cells": [
  {
   "cell_type": "code",
   "execution_count": 1,
   "id": "handled-accident",
   "metadata": {},
   "outputs": [],
   "source": [
    "import numpy as np\n",
    "import pandas as pd\n",
    "import sklearn\n",
    "import matplotlib.pyplot as plt\n",
    "import PIL #pillow import\n",
    "%matplotlib inline"
   ]
  },
  {
   "cell_type": "code",
   "execution_count": 2,
   "id": "ranking-studio",
   "metadata": {},
   "outputs": [],
   "source": [
    "from tensorflow.keras.datasets import cifar10"
   ]
  },
  {
   "cell_type": "code",
   "execution_count": 3,
   "id": "differential-processing",
   "metadata": {},
   "outputs": [],
   "source": [
    "(X_train, y_train), (X_test, y_test) = cifar10.load_data()"
   ]
  },
  {
   "cell_type": "code",
   "execution_count": 4,
   "id": "revolutionary-patrol",
   "metadata": {},
   "outputs": [
    {
     "data": {
      "text/plain": [
       "((50000, 32, 32, 3), (10000, 32, 32, 3), (50000, 1), (10000, 1))"
      ]
     },
     "execution_count": 4,
     "metadata": {},
     "output_type": "execute_result"
    }
   ],
   "source": [
    "X_train.shape, X_test.shape, y_train.shape, y_test.shape"
   ]
  },
  {
   "cell_type": "code",
   "execution_count": 5,
   "id": "therapeutic-exclusive",
   "metadata": {},
   "outputs": [
    {
     "data": {
      "text/plain": [
       "(32, 32, 3)"
      ]
     },
     "execution_count": 5,
     "metadata": {},
     "output_type": "execute_result"
    }
   ],
   "source": [
    "X_train[0].shape"
   ]
  },
  {
   "cell_type": "code",
   "execution_count": 6,
   "id": "digital-eight",
   "metadata": {},
   "outputs": [
    {
     "data": {
      "text/plain": [
       "<matplotlib.image.AxesImage at 0x1eef2f18610>"
      ]
     },
     "execution_count": 6,
     "metadata": {},
     "output_type": "execute_result"
    },
    {
     "data": {
      "image/png": "[encoded data removed]",
      "text/plain": [
       "<Figure size 432x288 with 1 Axes>"
      ]
     },
     "metadata": {
      "needs_background": "light"
     },
     "output_type": "display_data"
    }
   ],
   "source": [
    "plt.imshow(X_train[0])"
   ]
  },
  {
   "cell_type": "code",
   "execution_count": 7,
   "id": "indie-membership",
   "metadata": {},
   "outputs": [
    {
     "data": {
      "image/png": "[encoded data removed]",
      "text/plain": [
       "<PIL.Image.Image image mode=RGB size=32x32 at 0x1EEF31906A0>"
      ]
     },
     "execution_count": 7,
     "metadata": {},
     "output_type": "execute_result"
    }
   ],
   "source": [
    "PIL.Image.fromarray(X_train[0])"
   ]
  },
  {
   "cell_type": "code",
   "execution_count": 8,
   "id": "republican-freeze",
   "metadata": {},
   "outputs": [],
   "source": [
    "X_train = X_train/255"
   ]
  },
  {
   "cell_type": "code",
   "execution_count": 9,
   "id": "natural-interpretation",
   "metadata": {},
   "outputs": [],
   "source": [
    "X_test = X_test/255"
   ]
  },
  {
   "cell_type": "code",
   "execution_count": 10,
   "id": "packed-median",
   "metadata": {},
   "outputs": [],
   "source": [
    "from tensorflow.keras.utils import to_categorical"
   ]
  },
  {
   "cell_type": "code",
   "execution_count": 11,
   "id": "seasonal-length",
   "metadata": {},
   "outputs": [],
   "source": [
    "y_train_new = to_categorical(y_train, 10)  #one hot encoding of output"
   ]
  },
  {
   "cell_type": "code",
   "execution_count": 12,
   "id": "furnished-lincoln",
   "metadata": {},
   "outputs": [],
   "source": [
    "y_test_new = to_categorical(y_test, 10)"
   ]
  },
  {
   "cell_type": "markdown",
   "id": "architectural-smoke",
   "metadata": {},
   "source": [
    "##create models"
   ]
  },
  {
   "cell_type": "code",
   "execution_count": 13,
   "id": "competitive-overhead",
   "metadata": {},
   "outputs": [],
   "source": [
    "import tensorflow as tf\n",
    "from tensorflow.keras.layers import Dense, Conv2D, MaxPooling2D, Flatten\n",
    "from tensorflow.keras.models import Sequential"
   ]
  },
  {
   "cell_type": "code",
   "execution_count": 14,
   "id": "gross-capital",
   "metadata": {},
   "outputs": [],
   "source": [
    "model = Sequential()\n",
    "\n",
    "#cnn layers -> 1\n",
    "model.add(Conv2D(filters=32, kernel_size=(4,4), input_shape=(32,32,3), activation='relu'))\n",
    "model.add(MaxPooling2D(pool_size=(2,2)))\n",
    "#conv layer-> 2\n",
    "model.add(Conv2D(filters=32, kernel_size=(4,4), input_shape=(32,32,3), activation='relu'))\n",
    "model.add(MaxPooling2D(pool_size=(2,2)))\n",
    "\n",
    "model.add(Flatten())\n",
    "model.add(Dense(256, activation='relu'))\n",
    "\n",
    "model.add(Dense(10, activation='softmax'))\n",
    "\n",
    "model.compile(loss='categorical_crossentropy', optimizer='adam', metrics=['accuracy'])"
   ]
  },
  {
   "cell_type": "code",
   "execution_count": 15,
   "id": "italic-ticket",
   "metadata": {},
   "outputs": [
    {
     "name": "stdout",
     "output_type": "stream",
     "text": [
      "Model: \"sequential\"\n",
      "_________________________________________________________________\n",
      "Layer (type)                 Output Shape              Param #   \n",
      "=================================================================\n",
      "conv2d (Conv2D)              (None, 29, 29, 32)        1568      \n",
      "_________________________________________________________________\n",
      "max_pooling2d (MaxPooling2D) (None, 14, 14, 32)        0         \n",
      "_________________________________________________________________\n",
      "conv2d_1 (Conv2D)            (None, 11, 11, 32)        16416     \n",
      "_________________________________________________________________\n",
      "max_pooling2d_1 (MaxPooling2 (None, 5, 5, 32)          0         \n",
      "_________________________________________________________________\n",
      "flatten (Flatten)            (None, 800)               0         \n",
      "_________________________________________________________________\n",
      "dense (Dense)                (None, 256)               205056    \n",
      "_________________________________________________________________\n",
      "dense_1 (Dense)              (None, 10)                2570      \n",
      "=================================================================\n",
      "Total params: 225,610\n",
      "Trainable params: 225,610\n",
      "Non-trainable params: 0\n",
      "_________________________________________________________________\n"
     ]
    }
   ],
   "source": [
    "model.summary()"
   ]
  },
  {
   "cell_type": "code",
   "execution_count": 16,
   "id": "eight-music",
   "metadata": {},
   "outputs": [],
   "source": [
    "from tensorflow.keras.callbacks import EarlyStopping"
   ]
  },
  {
   "cell_type": "code",
   "execution_count": 17,
   "id": "modern-element",
   "metadata": {},
   "outputs": [],
   "source": [
    "early_stop = EarlyStopping(monitor='val_loss', patience=10)"
   ]
  },
  {
   "cell_type": "code",
   "execution_count": 18,
   "id": "copyrighted-cartoon",
   "metadata": {},
   "outputs": [
    {
     "name": "stdout",
     "output_type": "stream",
     "text": [
      "Epoch 1/25\n",
      "1563/1563 [==============================] - 23s 15ms/step - loss: 1.4831 - accuracy: 0.4667 - val_loss: 1.2917 - val_accuracy: 0.5404\n",
      "Epoch 2/25\n",
      "1563/1563 [==============================] - 23s 15ms/step - loss: 1.1585 - accuracy: 0.5920 - val_loss: 1.2252 - val_accuracy: 0.5789\n",
      "Epoch 3/25\n",
      "1563/1563 [==============================] - 23s 15ms/step - loss: 0.9956 - accuracy: 0.6528 - val_loss: 1.0706 - val_accuracy: 0.6296\n",
      "Epoch 4/25\n",
      "1563/1563 [==============================] - 23s 15ms/step - loss: 0.8804 - accuracy: 0.6945 - val_loss: 0.9924 - val_accuracy: 0.6589\n",
      "Epoch 5/25\n",
      "1563/1563 [==============================] - 23s 15ms/step - loss: 0.7906 - accuracy: 0.7219 - val_loss: 0.9354 - val_accuracy: 0.6782\n",
      "Epoch 6/25\n",
      "1563/1563 [==============================] - 24s 15ms/step - loss: 0.7100 - accuracy: 0.7521 - val_loss: 0.9397 - val_accuracy: 0.6863\n",
      "Epoch 7/25\n",
      "1563/1563 [==============================] - 25s 16ms/step - loss: 0.6312 - accuracy: 0.7780 - val_loss: 0.9846 - val_accuracy: 0.6806\n",
      "Epoch 8/25\n",
      "1563/1563 [==============================] - 24s 15ms/step - loss: 0.5625 - accuracy: 0.8038 - val_loss: 1.0107 - val_accuracy: 0.6841\n",
      "Epoch 9/25\n",
      "1563/1563 [==============================] - 24s 15ms/step - loss: 0.4961 - accuracy: 0.8248 - val_loss: 1.0886 - val_accuracy: 0.6704\n",
      "Epoch 10/25\n",
      "1563/1563 [==============================] - 23s 15ms/step - loss: 0.4344 - accuracy: 0.8461 - val_loss: 1.1337 - val_accuracy: 0.6791\n",
      "Epoch 11/25\n",
      "1563/1563 [==============================] - 23s 15ms/step - loss: 0.3805 - accuracy: 0.8654 - val_loss: 1.1810 - val_accuracy: 0.6764\n",
      "Epoch 12/25\n",
      "1563/1563 [==============================] - 24s 15ms/step - loss: 0.3313 - accuracy: 0.8820 - val_loss: 1.3059 - val_accuracy: 0.6574\n",
      "Epoch 13/25\n",
      "1563/1563 [==============================] - 24s 15ms/step - loss: 0.2925 - accuracy: 0.8950 - val_loss: 1.3385 - val_accuracy: 0.6737\n",
      "Epoch 14/25\n",
      "1563/1563 [==============================] - 24s 15ms/step - loss: 0.2520 - accuracy: 0.9110 - val_loss: 1.4524 - val_accuracy: 0.6797\n",
      "Epoch 15/25\n",
      "1563/1563 [==============================] - 24s 15ms/step - loss: 0.2216 - accuracy: 0.9222 - val_loss: 1.6107 - val_accuracy: 0.6735\n"
     ]
    },
    {
     "data": {
      "text/plain": [
       "<tensorflow.python.keras.callbacks.History at 0x1eee89b6b50>"
      ]
     },
     "execution_count": 18,
     "metadata": {},
     "output_type": "execute_result"
    }
   ],
   "source": [
    "model.fit(X_train, y_train_new, validation_data=(X_test, y_test_new), epochs=25, callbacks=[early_stop])"
   ]
  },
  {
   "cell_type": "code",
   "execution_count": 19,
   "id": "peripheral-nature",
   "metadata": {},
   "outputs": [],
   "source": [
    "metrics = pd.DataFrame(model.history.history)"
   ]
  },
  {
   "cell_type": "code",
   "execution_count": 20,
   "id": "worst-treasury",
   "metadata": {},
   "outputs": [
    {
     "data": {
      "text/html": [
       "<div>\n",
       "<style scoped>\n",
       "    .dataframe tbody tr th:only-of-type {\n",
       "        vertical-align: middle;\n",
       "    }\n",
       "\n",
       "    .dataframe tbody tr th {\n",
       "        vertical-align: top;\n",
       "    }\n",
       "\n",
       "    .dataframe thead th {\n",
       "        text-align: right;\n",
       "    }\n",
       "</style>\n",
       "<table border=\"1\" class=\"dataframe\">\n",
       "  <thead>\n",
       "    <tr style=\"text-align: right;\">\n",
       "      <th></th>\n",
       "      <th>loss</th>\n",
       "      <th>accuracy</th>\n",
       "      <th>val_loss</th>\n",
       "      <th>val_accuracy</th>\n",
       "    </tr>\n",
       "  </thead>\n",
       "  <tbody>\n",
       "    <tr>\n",
       "      <th>0</th>\n",
       "      <td>1.483126</td>\n",
       "      <td>0.46666</td>\n",
       "      <td>1.291709</td>\n",
       "      <td>0.5404</td>\n",
       "    </tr>\n",
       "    <tr>\n",
       "      <th>1</th>\n",
       "      <td>1.158489</td>\n",
       "      <td>0.59202</td>\n",
       "      <td>1.225196</td>\n",
       "      <td>0.5789</td>\n",
       "    </tr>\n",
       "    <tr>\n",
       "      <th>2</th>\n",
       "      <td>0.995601</td>\n",
       "      <td>0.65280</td>\n",
       "      <td>1.070575</td>\n",
       "      <td>0.6296</td>\n",
       "    </tr>\n",
       "    <tr>\n",
       "      <th>3</th>\n",
       "      <td>0.880369</td>\n",
       "      <td>0.69450</td>\n",
       "      <td>0.992379</td>\n",
       "      <td>0.6589</td>\n",
       "    </tr>\n",
       "    <tr>\n",
       "      <th>4</th>\n",
       "      <td>0.790567</td>\n",
       "      <td>0.72188</td>\n",
       "      <td>0.935372</td>\n",
       "      <td>0.6782</td>\n",
       "    </tr>\n",
       "    <tr>\n",
       "      <th>5</th>\n",
       "      <td>0.709993</td>\n",
       "      <td>0.75214</td>\n",
       "      <td>0.939710</td>\n",
       "      <td>0.6863</td>\n",
       "    </tr>\n",
       "    <tr>\n",
       "      <th>6</th>\n",
       "      <td>0.631230</td>\n",
       "      <td>0.77798</td>\n",
       "      <td>0.984570</td>\n",
       "      <td>0.6806</td>\n",
       "    </tr>\n",
       "    <tr>\n",
       "      <th>7</th>\n",
       "      <td>0.562513</td>\n",
       "      <td>0.80376</td>\n",
       "      <td>1.010730</td>\n",
       "      <td>0.6841</td>\n",
       "    </tr>\n",
       "    <tr>\n",
       "      <th>8</th>\n",
       "      <td>0.496092</td>\n",
       "      <td>0.82478</td>\n",
       "      <td>1.088550</td>\n",
       "      <td>0.6704</td>\n",
       "    </tr>\n",
       "    <tr>\n",
       "      <th>9</th>\n",
       "      <td>0.434404</td>\n",
       "      <td>0.84608</td>\n",
       "      <td>1.133692</td>\n",
       "      <td>0.6791</td>\n",
       "    </tr>\n",
       "    <tr>\n",
       "      <th>10</th>\n",
       "      <td>0.380500</td>\n",
       "      <td>0.86542</td>\n",
       "      <td>1.180972</td>\n",
       "      <td>0.6764</td>\n",
       "    </tr>\n",
       "    <tr>\n",
       "      <th>11</th>\n",
       "      <td>0.331341</td>\n",
       "      <td>0.88202</td>\n",
       "      <td>1.305858</td>\n",
       "      <td>0.6574</td>\n",
       "    </tr>\n",
       "    <tr>\n",
       "      <th>12</th>\n",
       "      <td>0.292541</td>\n",
       "      <td>0.89498</td>\n",
       "      <td>1.338486</td>\n",
       "      <td>0.6737</td>\n",
       "    </tr>\n",
       "    <tr>\n",
       "      <th>13</th>\n",
       "      <td>0.251964</td>\n",
       "      <td>0.91098</td>\n",
       "      <td>1.452432</td>\n",
       "      <td>0.6797</td>\n",
       "    </tr>\n",
       "    <tr>\n",
       "      <th>14</th>\n",
       "      <td>0.221593</td>\n",
       "      <td>0.92220</td>\n",
       "      <td>1.610675</td>\n",
       "      <td>0.6735</td>\n",
       "    </tr>\n",
       "  </tbody>\n",
       "</table>\n",
       "</div>"
      ],
      "text/plain": [
       "        loss  accuracy  val_loss  val_accuracy\n",
       "0   1.483126   0.46666  1.291709        0.5404\n",
       "1   1.158489   0.59202  1.225196        0.5789\n",
       "2   0.995601   0.65280  1.070575        0.6296\n",
       "3   0.880369   0.69450  0.992379        0.6589\n",
       "4   0.790567   0.72188  0.935372        0.6782\n",
       "5   0.709993   0.75214  0.939710        0.6863\n",
       "6   0.631230   0.77798  0.984570        0.6806\n",
       "7   0.562513   0.80376  1.010730        0.6841\n",
       "8   0.496092   0.82478  1.088550        0.6704\n",
       "9   0.434404   0.84608  1.133692        0.6791\n",
       "10  0.380500   0.86542  1.180972        0.6764\n",
       "11  0.331341   0.88202  1.305858        0.6574\n",
       "12  0.292541   0.89498  1.338486        0.6737\n",
       "13  0.251964   0.91098  1.452432        0.6797\n",
       "14  0.221593   0.92220  1.610675        0.6735"
      ]
     },
     "execution_count": 20,
     "metadata": {},
     "output_type": "execute_result"
    }
   ],
   "source": [
    "metrics"
   ]
  },
  {
   "cell_type": "code",
   "execution_count": 21,
   "id": "christian-disposal",
   "metadata": {},
   "outputs": [],
   "source": [
    "# losses = metrics[['loss', 'val_loss']]\n",
    "# # plt.figure(figsize=(10,8))\n",
    "# plt.xlabel('epochs')\n",
    "# plt.ylabel('loss')\n",
    "# plt.plot(metrics[['loss']], label='training_loss')\n",
    "# plt.plot(metrics[['val_loss']], label='validation loss')\n",
    "# plt.legend(['loss','val_loss'], loc='upper right')\n",
    "# plt.show()"
   ]
  },
  {
   "cell_type": "code",
   "execution_count": 22,
   "id": "modern-letters",
   "metadata": {},
   "outputs": [
    {
     "data": {
      "image/png": "[encoded data removed]",
      "text/plain": [
       "<Figure size 432x288 with 1 Axes>"
      ]
     },
     "metadata": {
      "needs_background": "light"
     },
     "output_type": "display_data"
    }
   ],
   "source": [
    "losses = metrics[['loss', 'val_loss']]\n",
    "ax = losses.plot()\n",
    "ax.set_xlabel('epochs')\n",
    "ax.set_ylabel('loss');"
   ]
  },
  {
   "cell_type": "code",
   "execution_count": 23,
   "id": "wireless-matrix",
   "metadata": {},
   "outputs": [
    {
     "data": {
      "image/png": "[encoded data removed]",
      "text/plain": [
       "<Figure size 432x288 with 1 Axes>"
      ]
     },
     "metadata": {
      "needs_background": "light"
     },
     "output_type": "display_data"
    }
   ],
   "source": [
    "accuracies = metrics[['accuracy', 'val_accuracy']]\n",
    "ax = accuracies.plot()\n",
    "ax.set_xlabel('epochs')\n",
    "ax.set_ylabel('loss');"
   ]
  },
  {
   "cell_type": "code",
   "execution_count": 24,
   "id": "organic-nicholas",
   "metadata": {},
   "outputs": [
    {
     "name": "stdout",
     "output_type": "stream",
     "text": [
      "313/313 [==============================] - 3s 8ms/step - loss: 1.6107 - accuracy: 0.6735\n"
     ]
    },
    {
     "data": {
      "text/plain": [
       "[1.6106747388839722, 0.6735000014305115]"
      ]
     },
     "execution_count": 24,
     "metadata": {},
     "output_type": "execute_result"
    }
   ],
   "source": [
    "##validation set evaluation\n",
    "model.evaluate(X_test, y_test_new)"
   ]
  },
  {
   "cell_type": "code",
   "execution_count": 25,
   "id": "organized-reservation",
   "metadata": {},
   "outputs": [
    {
     "data": {
      "text/plain": [
       "['loss', 'accuracy']"
      ]
     },
     "execution_count": 25,
     "metadata": {},
     "output_type": "execute_result"
    }
   ],
   "source": [
    "model.metrics_names"
   ]
  },
  {
   "cell_type": "code",
   "execution_count": 26,
   "id": "regular-vatican",
   "metadata": {},
   "outputs": [],
   "source": [
    "from sklearn.metrics import classification_report, confusion_matrix"
   ]
  },
  {
   "cell_type": "code",
   "execution_count": 27,
   "id": "maritime-allah",
   "metadata": {},
   "outputs": [
    {
     "name": "stdout",
     "output_type": "stream",
     "text": [
      "WARNING:tensorflow:From <ipython-input-27-ea55faa1510c>:1: Sequential.predict_classes (from tensorflow.python.keras.engine.sequential) is deprecated and will be removed after 2021-01-01.\n",
      "Instructions for updating:\n",
      "Please use instead:* `np.argmax(model.predict(x), axis=-1)`,   if your model does multi-class classification   (e.g. if it uses a `softmax` last-layer activation).* `(model.predict(x) > 0.5).astype(\"int32\")`,   if your model does binary classification   (e.g. if it uses a `sigmoid` last-layer activation).\n"
     ]
    }
   ],
   "source": [
    "y_pred = model.predict_classes(X_test)\n",
    "# y_pred = np.argmax(model.predict(X_test), axis=-1) ##same as above"
   ]
  },
  {
   "cell_type": "code",
   "execution_count": 28,
   "id": "solar-shelter",
   "metadata": {},
   "outputs": [
    {
     "name": "stdout",
     "output_type": "stream",
     "text": [
      "              precision    recall  f1-score   support\n",
      "\n",
      "           0       0.69      0.75      0.72      1000\n",
      "           1       0.81      0.79      0.80      1000\n",
      "           2       0.56      0.59      0.57      1000\n",
      "           3       0.52      0.45      0.48      1000\n",
      "           4       0.67      0.59      0.63      1000\n",
      "           5       0.54      0.62      0.58      1000\n",
      "           6       0.71      0.80      0.75      1000\n",
      "           7       0.74      0.68      0.71      1000\n",
      "           8       0.84      0.68      0.75      1000\n",
      "           9       0.71      0.79      0.75      1000\n",
      "\n",
      "    accuracy                           0.67     10000\n",
      "   macro avg       0.68      0.67      0.67     10000\n",
      "weighted avg       0.68      0.67      0.67     10000\n",
      "\n"
     ]
    }
   ],
   "source": [
    "print(classification_report(y_test, y_pred))"
   ]
  },
  {
   "cell_type": "code",
   "execution_count": 29,
   "id": "happy-prince",
   "metadata": {},
   "outputs": [
    {
     "name": "stdout",
     "output_type": "stream",
     "text": [
      "[[751  23  71  13  11  12  10  16  43  50]\n",
      " [ 33 788   9   9   4   9  20   6  18 104]\n",
      " [ 61   9 589  49  72  81  83  36   8  12]\n",
      " [ 28   3  83 453  65 211  69  46  13  29]\n",
      " [ 24   3 118  67 593  56  61  57  12   9]\n",
      " [ 12   6  64 150  37 619  38  50   7  17]\n",
      " [ 12   4  40  55  30  41 797   5   4  12]\n",
      " [ 25   5  40  45  50  98  21 681   1  34]\n",
      " [107  63  29  21  14  12  17  10 677  50]\n",
      " [ 41  70  16  17   7  12  13  16  21 787]]\n"
     ]
    }
   ],
   "source": [
    "print(confusion_matrix(y_test, y_pred))"
   ]
  },
  {
   "cell_type": "code",
   "execution_count": 30,
   "id": "seeing-daughter",
   "metadata": {},
   "outputs": [],
   "source": [
    "import tensorflow as tf"
   ]
  },
  {
   "cell_type": "code",
   "execution_count": 31,
   "id": "taken-calgary",
   "metadata": {},
   "outputs": [
    {
     "data": {
      "text/plain": [
       "array([6], dtype=int64)"
      ]
     },
     "execution_count": 31,
     "metadata": {},
     "output_type": "execute_result"
    }
   ],
   "source": [
    "model.predict_classes(random_number.reshape(1,32,32,3))"
   ]
  },
  {
   "cell_type": "code",
   "execution_count": 32,
   "id": "intermediate-intervention",
   "metadata": {},
   "outputs": [
    {
     "data": {
      "text/plain": [
       "array([3], dtype=uint8)"
      ]
     },
     "execution_count": 32,
     "metadata": {},
     "output_type": "execute_result"
    }
   ],
   "source": [
    "y_test[0]"
   ]
  },
  {
   "cell_type": "code",
   "execution_count": null,
   "id": "pediatric-danish",
   "metadata": {},
   "outputs": [],
   "source": []
  }
 ],
 "metadata": {
  "kernelspec": {
   "display_name": "Python 3",
   "language": "python",
   "name": "python3"
  },
  "language_info": {
   "codemirror_mode": {
    "name": "ipython",
    "version": 3
   },
   "file_extension": ".py",
   "mimetype": "text/x-python",
   "name": "python",
   "nbconvert_exporter": "python",
   "pygments_lexer": "ipython3",
   "version": "3.8.5"
  }
 },
 "nbformat": 4,
 "nbformat_minor": 5
}
