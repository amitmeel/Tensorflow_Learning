{
 "cells": [
  {
   "cell_type": "markdown",
   "metadata": {},
   "source": [
    "# Tensorboard\n",
    "\n",
    "\n",
    "---\n",
    "---\n",
    "\n",
    "Let's explore the built in data visualization capabilities that come with Tensorboard.\n",
    "\n",
    "Full official tutorial available here: https://www.tensorflow.org/tensorboard/get_started\n",
    "\n",
    "## Data"
   ]
  },
  {
   "cell_type": "code",
   "execution_count": 1,
   "metadata": {},
   "outputs": [],
   "source": [
    "import pandas as pd\n",
    "import numpy as np"
   ]
  },
  {
   "cell_type": "code",
   "execution_count": 2,
   "metadata": {},
   "outputs": [],
   "source": [
    "df = pd.read_csv('cancer_classification.csv')"
   ]
  },
  {
   "cell_type": "code",
   "execution_count": 3,
   "metadata": {},
   "outputs": [],
   "source": [
    "X = df.drop('benign_0__mal_1',axis=1).values\n",
    "y = df['benign_0__mal_1'].values"
   ]
  },
  {
   "cell_type": "code",
   "execution_count": 4,
   "metadata": {},
   "outputs": [],
   "source": [
    "from sklearn.model_selection import train_test_split"
   ]
  },
  {
   "cell_type": "code",
   "execution_count": 5,
   "metadata": {},
   "outputs": [],
   "source": [
    "X_train, X_test, y_train, y_test = train_test_split(X,y,test_size=0.25,random_state=101)"
   ]
  },
  {
   "cell_type": "code",
   "execution_count": 6,
   "metadata": {},
   "outputs": [],
   "source": [
    "from sklearn.preprocessing import MinMaxScaler"
   ]
  },
  {
   "cell_type": "code",
   "execution_count": 7,
   "metadata": {},
   "outputs": [],
   "source": [
    "scaler = MinMaxScaler()"
   ]
  },
  {
   "cell_type": "code",
   "execution_count": 8,
   "metadata": {},
   "outputs": [
    {
     "data": {
      "text/plain": [
       "MinMaxScaler()"
      ]
     },
     "execution_count": 8,
     "metadata": {},
     "output_type": "execute_result"
    }
   ],
   "source": [
    "scaler.fit(X_train)"
   ]
  },
  {
   "cell_type": "code",
   "execution_count": 9,
   "metadata": {},
   "outputs": [],
   "source": [
    "X_train = scaler.transform(X_train)\n",
    "X_test = scaler.transform(X_test)"
   ]
  },
  {
   "cell_type": "markdown",
   "metadata": {},
   "source": [
    "## creating the model"
   ]
  },
  {
   "cell_type": "code",
   "execution_count": 10,
   "metadata": {},
   "outputs": [],
   "source": [
    "import tensorflow as tf\n",
    "from tensorflow.keras.models import Sequential\n",
    "from tensorflow.keras.layers import Dense, Activation,Dropout"
   ]
  },
  {
   "cell_type": "code",
   "execution_count": 11,
   "metadata": {},
   "outputs": [],
   "source": [
    "from tensorflow.keras.callbacks import EarlyStopping,TensorBoard"
   ]
  },
  {
   "cell_type": "code",
   "execution_count": 12,
   "metadata": {},
   "outputs": [],
   "source": [
    "early_stop = EarlyStopping(monitor='val_loss', mode='min', verbose=1, patience=25)"
   ]
  },
  {
   "cell_type": "code",
   "execution_count": 13,
   "metadata": {},
   "outputs": [
    {
     "data": {
      "text/plain": [
       "'C:\\\\Users\\\\user\\\\Desktop\\\\Tensorflow_Learning\\\\ANN'"
      ]
     },
     "execution_count": 13,
     "metadata": {},
     "output_type": "execute_result"
    }
   ],
   "source": [
    "pwd"
   ]
  },
  {
   "cell_type": "markdown",
   "metadata": {},
   "source": [
    "## Creating the Tensorboard Callback\n",
    "\n",
    "TensorBoard is a visualization tool provided with TensorFlow.\n",
    "\n",
    "This callback logs events for TensorBoard, including:\n",
    "* Metrics summary plots\n",
    "* Training graph visualization\n",
    "* Activation histograms\n",
    "* Sampled profiling\n",
    "\n",
    "If you have installed TensorFlow with pip, you should be able\n",
    "to launch TensorBoard from the command line:\n",
    "\n",
    "```sh\n",
    "tensorboard --logdir=path_to_your_logs\n",
    "```\n",
    "\n",
    "You can find more information about TensorBoard\n",
    "[here](https://www.tensorflow.org/tensorboard/).\n",
    "\n",
    "    Arguments:\n",
    "        log_dir: the path of the directory where to save the log files to be\n",
    "          parsed by TensorBoard.\n",
    "        histogram_freq: frequency (in epochs) at which to compute activation and\n",
    "          weight histograms for the layers of the model. If set to 0, histograms\n",
    "          won't be computed. Validation data (or split) must be specified for\n",
    "          histogram visualizations.\n",
    "        write_graph: whether to visualize the graph in TensorBoard. The log file\n",
    "          can become quite large when write_graph is set to True.\n",
    "        write_images: whether to write model weights to visualize as image in\n",
    "          TensorBoard.\n",
    "        update_freq: `'batch'` or `'epoch'` or integer. When using `'batch'`,\n",
    "          writes the losses and metrics to TensorBoard after each batch. The same\n",
    "          applies for `'epoch'`. If using an integer, let's say `1000`, the\n",
    "          callback will write the metrics and losses to TensorBoard every 1000\n",
    "          samples. Note that writing too frequently to TensorBoard can slow down\n",
    "          your training.\n",
    "        profile_batch: Profile the batch to sample compute characteristics. By\n",
    "          default, it will profile the second batch. Set profile_batch=0 to\n",
    "          disable profiling. Must run in TensorFlow eager mode.\n",
    "        embeddings_freq: frequency (in epochs) at which embedding layers will\n",
    "          be visualized. If set to 0, embeddings won't be visualized.\n",
    "       "
   ]
  },
  {
   "cell_type": "code",
   "execution_count": 14,
   "metadata": {},
   "outputs": [],
   "source": [
    "from datetime import datetime"
   ]
  },
  {
   "cell_type": "code",
   "execution_count": 15,
   "metadata": {},
   "outputs": [
    {
     "data": {
      "text/plain": [
       "'2021-02-10--2106'"
      ]
     },
     "execution_count": 15,
     "metadata": {},
     "output_type": "execute_result"
    }
   ],
   "source": [
    "datetime.now().strftime(\"%Y-%m-%d--%H%M\")"
   ]
  },
  {
   "cell_type": "code",
   "execution_count": 16,
   "metadata": {},
   "outputs": [],
   "source": [
    "# WINDOWS: Use \"logs\\\\fit\"\n",
    "# MACOS/LINUX: Use \"logs\\fit\"\n",
    "\n",
    "log_directory = 'logs\\\\fit'\n",
    "\n",
    "# OPTIONAL: ADD A TIMESTAMP FOR UNIQUE FOLDER\n",
    "# timestamp = datetime.now().strftime(\"%Y-%m-%d--%H%M\")\n",
    "# log_directory = log_directory + '\\\\' + timestamp\n",
    "\n",
    "\n",
    "board = TensorBoard(log_dir=log_directory,histogram_freq=1,\n",
    "    write_graph=True,\n",
    "    write_images=True,\n",
    "    update_freq='epoch',\n",
    "    profile_batch=2,\n",
    "    embeddings_freq=1)"
   ]
  },
  {
   "cell_type": "code",
   "execution_count": null,
   "metadata": {},
   "outputs": [],
   "source": []
  },
  {
   "cell_type": "code",
   "execution_count": 17,
   "metadata": {},
   "outputs": [],
   "source": [
    "model = Sequential()\n",
    "model.add(Dense(units=30,activation='relu'))\n",
    "model.add(Dropout(0.5))\n",
    "model.add(Dense(units=15,activation='relu'))\n",
    "model.add(Dropout(0.5))\n",
    "model.add(Dense(units=1,activation='sigmoid'))\n",
    "model.compile(loss='binary_crossentropy', optimizer='adam')"
   ]
  },
  {
   "cell_type": "markdown",
   "metadata": {},
   "source": [
    "#### Train the Model"
   ]
  },
  {
   "cell_type": "code",
   "execution_count": 18,
   "metadata": {},
   "outputs": [
    {
     "name": "stdout",
     "output_type": "stream",
     "text": [
      "Epoch 1/600\n",
      " 1/14 [=>............................] - ETA: 0s - loss: 0.6663WARNING:tensorflow:From C:\\Users\\user\\Anaconda3\\envs\\ai\\lib\\site-packages\\tensorflow\\python\\ops\\summary_ops_v2.py:1277: stop (from tensorflow.python.eager.profiler) is deprecated and will be removed after 2020-07-01.\n",
      "Instructions for updating:\n",
      "use `tf.profiler.experimental.stop` instead.\n",
      " 2/14 [===>..........................] - ETA: 2s - loss: 0.6938WARNING:tensorflow:Callbacks method `on_train_batch_begin` is slow compared to the batch time (batch time: 0.0020s vs `on_train_batch_begin` time: 0.0280s). Check your callbacks.\n",
      "WARNING:tensorflow:Callbacks method `on_train_batch_end` is slow compared to the batch time (batch time: 0.0020s vs `on_train_batch_end` time: 0.4227s). Check your callbacks.\n",
      "WARNING:tensorflow:Callbacks method `on_test_batch_end` is slow compared to the batch time (batch time: 0.0000s vs `on_test_batch_end` time: 0.0010s). Check your callbacks.\n",
      "14/14 [==============================] - 1s 78ms/step - loss: 0.6959 - val_loss: 0.6745\n",
      "Epoch 2/600\n",
      "14/14 [==============================] - 1s 48ms/step - loss: 0.6787 - val_loss: 0.6612\n",
      "Epoch 3/600\n",
      "14/14 [==============================] - 0s 30ms/step - loss: 0.6632 - val_loss: 0.6435\n",
      "Epoch 4/600\n",
      "14/14 [==============================] - 0s 31ms/step - loss: 0.6283 - val_loss: 0.6198\n",
      "Epoch 5/600\n",
      "14/14 [==============================] - 0s 22ms/step - loss: 0.6282 - val_loss: 0.5932\n",
      "Epoch 6/600\n",
      "14/14 [==============================] - 0s 31ms/step - loss: 0.6154 - val_loss: 0.5688\n",
      "Epoch 7/600\n",
      "14/14 [==============================] - 0s 27ms/step - loss: 0.5939 - val_loss: 0.5405\n",
      "Epoch 8/600\n",
      "14/14 [==============================] - 1s 59ms/step - loss: 0.5556 - val_loss: 0.5089\n",
      "Epoch 9/600\n",
      "14/14 [==============================] - 1s 38ms/step - loss: 0.5369 - val_loss: 0.4744\n",
      "Epoch 10/600\n",
      "14/14 [==============================] - 0s 23ms/step - loss: 0.5177 - val_loss: 0.4463\n",
      "Epoch 11/600\n",
      "14/14 [==============================] - 0s 26ms/step - loss: 0.4984 - val_loss: 0.4200\n",
      "Epoch 12/600\n",
      "14/14 [==============================] - 0s 22ms/step - loss: 0.5012 - val_loss: 0.3952\n",
      "Epoch 13/600\n",
      "14/14 [==============================] - 0s 20ms/step - loss: 0.4563 - val_loss: 0.3746\n",
      "Epoch 14/600\n",
      "14/14 [==============================] - 0s 26ms/step - loss: 0.4481 - val_loss: 0.3468\n",
      "Epoch 15/600\n",
      "14/14 [==============================] - 0s 25ms/step - loss: 0.4319 - val_loss: 0.3262\n",
      "Epoch 16/600\n",
      "14/14 [==============================] - 1s 36ms/step - loss: 0.3861 - val_loss: 0.3036\n",
      "Epoch 17/600\n",
      "14/14 [==============================] - 0s 25ms/step - loss: 0.3914 - val_loss: 0.2865\n",
      "Epoch 18/600\n",
      "14/14 [==============================] - 0s 35ms/step - loss: 0.3506 - val_loss: 0.2688\n",
      "Epoch 19/600\n",
      "14/14 [==============================] - 0s 25ms/step - loss: 0.3672 - val_loss: 0.2539\n",
      "Epoch 20/600\n",
      "14/14 [==============================] - 0s 23ms/step - loss: 0.3406 - val_loss: 0.2430\n",
      "Epoch 21/600\n",
      "14/14 [==============================] - 0s 35ms/step - loss: 0.3254 - val_loss: 0.2284\n",
      "Epoch 22/600\n",
      "14/14 [==============================] - 1s 72ms/step - loss: 0.3448 - val_loss: 0.2210\n",
      "Epoch 23/600\n",
      "14/14 [==============================] - 1s 62ms/step - loss: 0.3282 - val_loss: 0.2184\n",
      "Epoch 24/600\n",
      "14/14 [==============================] - 1s 40ms/step - loss: 0.2852 - val_loss: 0.2104\n",
      "Epoch 25/600\n",
      "14/14 [==============================] - 0s 35ms/step - loss: 0.3134 - val_loss: 0.2020\n",
      "Epoch 26/600\n",
      "14/14 [==============================] - 1s 93ms/step - loss: 0.3119 - val_loss: 0.1930\n",
      "Epoch 27/600\n",
      "14/14 [==============================] - 1s 73ms/step - loss: 0.2830 - val_loss: 0.1844\n",
      "Epoch 28/600\n",
      "14/14 [==============================] - 1s 66ms/step - loss: 0.2882 - val_loss: 0.1748\n",
      "Epoch 29/600\n",
      "14/14 [==============================] - 1s 66ms/step - loss: 0.2669 - val_loss: 0.1673\n",
      "Epoch 30/600\n",
      "14/14 [==============================] - 1s 57ms/step - loss: 0.2661 - val_loss: 0.1650\n",
      "Epoch 31/600\n",
      "14/14 [==============================] - 1s 60ms/step - loss: 0.2478 - val_loss: 0.1578\n",
      "Epoch 32/600\n",
      "14/14 [==============================] - 0s 35ms/step - loss: 0.2493 - val_loss: 0.1518\n",
      "Epoch 33/600\n",
      "14/14 [==============================] - 1s 37ms/step - loss: 0.2575 - val_loss: 0.1499\n",
      "Epoch 34/600\n",
      "14/14 [==============================] - 0s 35ms/step - loss: 0.2411 - val_loss: 0.1466\n",
      "Epoch 35/600\n",
      "14/14 [==============================] - 1s 52ms/step - loss: 0.2290 - val_loss: 0.1430\n",
      "Epoch 36/600\n",
      "14/14 [==============================] - 1s 57ms/step - loss: 0.2413 - val_loss: 0.1387\n",
      "Epoch 37/600\n",
      "14/14 [==============================] - 1s 53ms/step - loss: 0.2243 - val_loss: 0.1372\n",
      "Epoch 38/600\n",
      "14/14 [==============================] - 1s 36ms/step - loss: 0.2087 - val_loss: 0.1362\n",
      "Epoch 39/600\n",
      "14/14 [==============================] - 1s 77ms/step - loss: 0.1999 - val_loss: 0.1264\n",
      "Epoch 40/600\n",
      "14/14 [==============================] - 1s 42ms/step - loss: 0.2071 - val_loss: 0.1220\n",
      "Epoch 41/600\n",
      "14/14 [==============================] - 1s 38ms/step - loss: 0.2205 - val_loss: 0.1245\n",
      "Epoch 42/600\n",
      "14/14 [==============================] - 0s 33ms/step - loss: 0.1978 - val_loss: 0.1175\n",
      "Epoch 43/600\n",
      "14/14 [==============================] - 0s 33ms/step - loss: 0.2059 - val_loss: 0.1238\n",
      "Epoch 44/600\n",
      "14/14 [==============================] - 1s 56ms/step - loss: 0.2126 - val_loss: 0.1187\n",
      "Epoch 45/600\n",
      "14/14 [==============================] - 1s 43ms/step - loss: 0.1901 - val_loss: 0.1309\n",
      "Epoch 46/600\n",
      "14/14 [==============================] - 1s 65ms/step - loss: 0.1992 - val_loss: 0.1162\n",
      "Epoch 47/600\n",
      "14/14 [==============================] - 1s 53ms/step - loss: 0.1660 - val_loss: 0.1114\n",
      "Epoch 48/600\n",
      "14/14 [==============================] - 1s 65ms/step - loss: 0.1896 - val_loss: 0.1130\n",
      "Epoch 49/600\n",
      "14/14 [==============================] - 1s 41ms/step - loss: 0.1891 - val_loss: 0.1112\n",
      "Epoch 50/600\n",
      "14/14 [==============================] - 1s 43ms/step - loss: 0.1818 - val_loss: 0.1110\n",
      "Epoch 51/600\n",
      "14/14 [==============================] - 0s 26ms/step - loss: 0.1607 - val_loss: 0.1066\n",
      "Epoch 52/600\n",
      "14/14 [==============================] - 0s 21ms/step - loss: 0.1706 - val_loss: 0.1033\n",
      "Epoch 53/600\n",
      "14/14 [==============================] - 0s 23ms/step - loss: 0.1657 - val_loss: 0.1037\n",
      "Epoch 54/600\n",
      "14/14 [==============================] - 0s 19ms/step - loss: 0.1923 - val_loss: 0.1046\n",
      "Epoch 55/600\n",
      "14/14 [==============================] - 1s 36ms/step - loss: 0.1571 - val_loss: 0.1037\n",
      "Epoch 56/600\n",
      "14/14 [==============================] - 0s 33ms/step - loss: 0.1755 - val_loss: 0.1049\n",
      "Epoch 57/600\n",
      "14/14 [==============================] - 0s 27ms/step - loss: 0.1493 - val_loss: 0.1091\n",
      "Epoch 58/600\n",
      "14/14 [==============================] - 0s 20ms/step - loss: 0.1712 - val_loss: 0.0994\n",
      "Epoch 59/600\n",
      "14/14 [==============================] - 0s 23ms/step - loss: 0.1669 - val_loss: 0.1046\n",
      "Epoch 60/600\n",
      "14/14 [==============================] - 0s 27ms/step - loss: 0.1374 - val_loss: 0.1017\n",
      "Epoch 61/600\n",
      "14/14 [==============================] - 0s 20ms/step - loss: 0.1421 - val_loss: 0.0932\n",
      "Epoch 62/600\n",
      "14/14 [==============================] - 0s 21ms/step - loss: 0.1476 - val_loss: 0.0930\n",
      "Epoch 63/600\n",
      "14/14 [==============================] - 1s 47ms/step - loss: 0.1255 - val_loss: 0.1027\n",
      "Epoch 64/600\n",
      "14/14 [==============================] - 1s 55ms/step - loss: 0.1264 - val_loss: 0.0990\n",
      "Epoch 65/600\n",
      "14/14 [==============================] - 0s 32ms/step - loss: 0.1346 - val_loss: 0.1001\n",
      "Epoch 66/600\n",
      "14/14 [==============================] - 1s 40ms/step - loss: 0.1509 - val_loss: 0.0920\n",
      "Epoch 67/600\n",
      "14/14 [==============================] - 0s 22ms/step - loss: 0.1368 - val_loss: 0.0892\n",
      "Epoch 68/600\n",
      "14/14 [==============================] - 0s 23ms/step - loss: 0.1257 - val_loss: 0.0904\n",
      "Epoch 69/600\n",
      "14/14 [==============================] - 0s 28ms/step - loss: 0.1473 - val_loss: 0.0982\n",
      "Epoch 70/600\n",
      "14/14 [==============================] - 0s 21ms/step - loss: 0.1216 - val_loss: 0.0876\n",
      "Epoch 71/600\n",
      "14/14 [==============================] - 1s 64ms/step - loss: 0.1464 - val_loss: 0.0898\n",
      "Epoch 72/600\n",
      "14/14 [==============================] - 0s 34ms/step - loss: 0.1444 - val_loss: 0.0944\n"
     ]
    },
    {
     "name": "stdout",
     "output_type": "stream",
     "text": [
      "Epoch 73/600\n",
      "14/14 [==============================] - 0s 29ms/step - loss: 0.1626 - val_loss: 0.1008\n",
      "Epoch 74/600\n",
      "14/14 [==============================] - 0s 21ms/step - loss: 0.1364 - val_loss: 0.0930\n",
      "Epoch 75/600\n",
      "14/14 [==============================] - 0s 34ms/step - loss: 0.1348 - val_loss: 0.0891\n",
      "Epoch 76/600\n",
      "14/14 [==============================] - 0s 22ms/step - loss: 0.1248 - val_loss: 0.0930\n",
      "Epoch 77/600\n",
      "14/14 [==============================] - 0s 24ms/step - loss: 0.1076 - val_loss: 0.0921\n",
      "Epoch 78/600\n",
      "14/14 [==============================] - 1s 69ms/step - loss: 0.1296 - val_loss: 0.0879\n",
      "Epoch 79/600\n",
      "14/14 [==============================] - 1s 39ms/step - loss: 0.1143 - val_loss: 0.0892\n",
      "Epoch 80/600\n",
      "14/14 [==============================] - 0s 30ms/step - loss: 0.1220 - val_loss: 0.0842\n",
      "Epoch 81/600\n",
      "14/14 [==============================] - 0s 23ms/step - loss: 0.1239 - val_loss: 0.0920\n",
      "Epoch 82/600\n",
      "14/14 [==============================] - 0s 24ms/step - loss: 0.1167 - val_loss: 0.0871\n",
      "Epoch 83/600\n",
      "14/14 [==============================] - 0s 24ms/step - loss: 0.1266 - val_loss: 0.0901\n",
      "Epoch 84/600\n",
      "14/14 [==============================] - 1s 66ms/step - loss: 0.1165 - val_loss: 0.0923\n",
      "Epoch 85/600\n",
      "14/14 [==============================] - 1s 53ms/step - loss: 0.1272 - val_loss: 0.0906\n",
      "Epoch 86/600\n",
      "14/14 [==============================] - 0s 26ms/step - loss: 0.1338 - val_loss: 0.0879\n",
      "Epoch 87/600\n",
      "14/14 [==============================] - 0s 27ms/step - loss: 0.1119 - val_loss: 0.0814\n",
      "Epoch 88/600\n",
      "14/14 [==============================] - 0s 25ms/step - loss: 0.1117 - val_loss: 0.0869\n",
      "Epoch 89/600\n",
      "14/14 [==============================] - 0s 21ms/step - loss: 0.1187 - val_loss: 0.0806\n",
      "Epoch 90/600\n",
      "14/14 [==============================] - 0s 22ms/step - loss: 0.1193 - val_loss: 0.0955\n",
      "Epoch 91/600\n",
      "14/14 [==============================] - 1s 83ms/step - loss: 0.1004 - val_loss: 0.0845\n",
      "Epoch 92/600\n",
      "14/14 [==============================] - 1s 40ms/step - loss: 0.0895 - val_loss: 0.0893\n",
      "Epoch 93/600\n",
      "14/14 [==============================] - 1s 46ms/step - loss: 0.0984 - val_loss: 0.0844\n",
      "Epoch 94/600\n",
      "14/14 [==============================] - 1s 37ms/step - loss: 0.1025 - val_loss: 0.0913\n",
      "Epoch 95/600\n",
      "14/14 [==============================] - 1s 70ms/step - loss: 0.1369 - val_loss: 0.0809\n",
      "Epoch 96/600\n",
      "14/14 [==============================] - 0s 24ms/step - loss: 0.1135 - val_loss: 0.0834\n",
      "Epoch 97/600\n",
      "14/14 [==============================] - 0s 22ms/step - loss: 0.1100 - val_loss: 0.0839\n",
      "Epoch 98/600\n",
      "14/14 [==============================] - 0s 19ms/step - loss: 0.0929 - val_loss: 0.0824\n",
      "Epoch 99/600\n",
      "14/14 [==============================] - 0s 25ms/step - loss: 0.1227 - val_loss: 0.0874\n",
      "Epoch 100/600\n",
      "14/14 [==============================] - 0s 28ms/step - loss: 0.0846 - val_loss: 0.0814\n",
      "Epoch 101/600\n",
      "14/14 [==============================] - 0s 22ms/step - loss: 0.1137 - val_loss: 0.0910\n",
      "Epoch 102/600\n",
      "14/14 [==============================] - 0s 34ms/step - loss: 0.0946 - val_loss: 0.0868\n",
      "Epoch 103/600\n",
      "14/14 [==============================] - 1s 44ms/step - loss: 0.0952 - val_loss: 0.0824\n",
      "Epoch 104/600\n",
      "14/14 [==============================] - 0s 21ms/step - loss: 0.1093 - val_loss: 0.0850\n",
      "Epoch 105/600\n",
      "14/14 [==============================] - 0s 30ms/step - loss: 0.1065 - val_loss: 0.0879\n",
      "Epoch 106/600\n",
      "14/14 [==============================] - 0s 20ms/step - loss: 0.0971 - val_loss: 0.0779\n",
      "Epoch 107/600\n",
      "14/14 [==============================] - 0s 23ms/step - loss: 0.0912 - val_loss: 0.0791\n",
      "Epoch 108/600\n",
      "14/14 [==============================] - 0s 21ms/step - loss: 0.1137 - val_loss: 0.0849\n",
      "Epoch 109/600\n",
      "14/14 [==============================] - 0s 25ms/step - loss: 0.0934 - val_loss: 0.0820\n",
      "Epoch 110/600\n",
      "14/14 [==============================] - 0s 23ms/step - loss: 0.1257 - val_loss: 0.0792\n",
      "Epoch 111/600\n",
      "14/14 [==============================] - 1s 41ms/step - loss: 0.1003 - val_loss: 0.0839\n",
      "Epoch 112/600\n",
      "14/14 [==============================] - 0s 25ms/step - loss: 0.1112 - val_loss: 0.0816\n",
      "Epoch 113/600\n",
      "14/14 [==============================] - 0s 25ms/step - loss: 0.1146 - val_loss: 0.0898\n",
      "Epoch 114/600\n",
      "14/14 [==============================] - 0s 23ms/step - loss: 0.1116 - val_loss: 0.0772\n",
      "Epoch 115/600\n",
      "14/14 [==============================] - 0s 22ms/step - loss: 0.1014 - val_loss: 0.0878\n",
      "Epoch 116/600\n",
      "14/14 [==============================] - 0s 21ms/step - loss: 0.1010 - val_loss: 0.0899\n",
      "Epoch 117/600\n",
      "14/14 [==============================] - 0s 28ms/step - loss: 0.1139 - val_loss: 0.0824\n",
      "Epoch 118/600\n",
      "14/14 [==============================] - 0s 19ms/step - loss: 0.0996 - val_loss: 0.0832\n",
      "Epoch 119/600\n",
      "14/14 [==============================] - 1s 68ms/step - loss: 0.0958 - val_loss: 0.0917\n",
      "Epoch 120/600\n",
      "14/14 [==============================] - 0s 25ms/step - loss: 0.1155 - val_loss: 0.0814\n",
      "Epoch 121/600\n",
      "14/14 [==============================] - 1s 43ms/step - loss: 0.0988 - val_loss: 0.0858\n",
      "Epoch 122/600\n",
      "14/14 [==============================] - 1s 40ms/step - loss: 0.0902 - val_loss: 0.0767\n",
      "Epoch 123/600\n",
      "14/14 [==============================] - 0s 24ms/step - loss: 0.0980 - val_loss: 0.0844\n",
      "Epoch 124/600\n",
      "14/14 [==============================] - 0s 20ms/step - loss: 0.1007 - val_loss: 0.0887\n",
      "Epoch 125/600\n",
      "14/14 [==============================] - 0s 19ms/step - loss: 0.0823 - val_loss: 0.0809\n",
      "Epoch 126/600\n",
      "14/14 [==============================] - 0s 22ms/step - loss: 0.0894 - val_loss: 0.0795\n",
      "Epoch 127/600\n",
      "14/14 [==============================] - 0s 20ms/step - loss: 0.0987 - val_loss: 0.0792\n",
      "Epoch 128/600\n",
      "14/14 [==============================] - 0s 21ms/step - loss: 0.0933 - val_loss: 0.0850\n",
      "Epoch 129/600\n",
      "14/14 [==============================] - 0s 22ms/step - loss: 0.0799 - val_loss: 0.0976\n",
      "Epoch 130/600\n",
      "14/14 [==============================] - 1s 51ms/step - loss: 0.1006 - val_loss: 0.0749\n",
      "Epoch 131/600\n",
      "14/14 [==============================] - 0s 26ms/step - loss: 0.0937 - val_loss: 0.0839\n",
      "Epoch 132/600\n",
      "14/14 [==============================] - 0s 17ms/step - loss: 0.0997 - val_loss: 0.0892\n",
      "Epoch 133/600\n",
      "14/14 [==============================] - 0s 23ms/step - loss: 0.0936 - val_loss: 0.0842\n",
      "Epoch 134/600\n",
      "14/14 [==============================] - 0s 20ms/step - loss: 0.0876 - val_loss: 0.0840\n",
      "Epoch 135/600\n",
      "14/14 [==============================] - 0s 20ms/step - loss: 0.0769 - val_loss: 0.0827\n",
      "Epoch 136/600\n",
      "14/14 [==============================] - 0s 21ms/step - loss: 0.0828 - val_loss: 0.0828\n",
      "Epoch 137/600\n",
      "14/14 [==============================] - 1s 94ms/step - loss: 0.0855 - val_loss: 0.0777\n",
      "Epoch 138/600\n",
      "14/14 [==============================] - 0s 24ms/step - loss: 0.0908 - val_loss: 0.0914\n",
      "Epoch 139/600\n",
      "14/14 [==============================] - 0s 28ms/step - loss: 0.0774 - val_loss: 0.0833\n",
      "Epoch 140/600\n",
      "14/14 [==============================] - 0s 19ms/step - loss: 0.1096 - val_loss: 0.0864\n",
      "Epoch 141/600\n",
      "14/14 [==============================] - 0s 21ms/step - loss: 0.0782 - val_loss: 0.0841\n",
      "Epoch 142/600\n",
      "14/14 [==============================] - 0s 19ms/step - loss: 0.0874 - val_loss: 0.0922\n",
      "Epoch 143/600\n",
      "14/14 [==============================] - 0s 29ms/step - loss: 0.0796 - val_loss: 0.0798\n",
      "Epoch 144/600\n",
      "14/14 [==============================] - 0s 19ms/step - loss: 0.1017 - val_loss: 0.0788\n",
      "Epoch 145/600\n",
      "14/14 [==============================] - 0s 19ms/step - loss: 0.0803 - val_loss: 0.0812\n",
      "Epoch 146/600\n",
      "14/14 [==============================] - 0s 20ms/step - loss: 0.0949 - val_loss: 0.0780\n",
      "Epoch 147/600\n",
      "14/14 [==============================] - 1s 39ms/step - loss: 0.0818 - val_loss: 0.0802\n",
      "Epoch 148/600\n",
      "14/14 [==============================] - 0s 21ms/step - loss: 0.0904 - val_loss: 0.0975\n",
      "Epoch 149/600\n",
      "14/14 [==============================] - 0s 23ms/step - loss: 0.0828 - val_loss: 0.1017\n",
      "Epoch 150/600\n",
      "14/14 [==============================] - 0s 20ms/step - loss: 0.0969 - val_loss: 0.0776\n",
      "Epoch 151/600\n",
      "14/14 [==============================] - 0s 17ms/step - loss: 0.0707 - val_loss: 0.0839\n",
      "Epoch 152/600\n",
      "14/14 [==============================] - 0s 21ms/step - loss: 0.0784 - val_loss: 0.0932\n",
      "Epoch 153/600\n"
     ]
    },
    {
     "name": "stdout",
     "output_type": "stream",
     "text": [
      "14/14 [==============================] - 0s 18ms/step - loss: 0.0844 - val_loss: 0.0766\n",
      "Epoch 154/600\n",
      "14/14 [==============================] - 0s 19ms/step - loss: 0.0912 - val_loss: 0.0790\n",
      "Epoch 155/600\n",
      "14/14 [==============================] - 0s 28ms/step - loss: 0.0583 - val_loss: 0.0847\n",
      "Epoch 00155: early stopping\n"
     ]
    },
    {
     "data": {
      "text/plain": [
       "<tensorflow.python.keras.callbacks.History at 0x28e029ba760>"
      ]
     },
     "execution_count": 18,
     "metadata": {},
     "output_type": "execute_result"
    }
   ],
   "source": [
    "model.fit(x=X_train, \n",
    "          y=y_train, \n",
    "          epochs=600,\n",
    "          validation_data=(X_test, y_test), verbose=1,\n",
    "          callbacks=[early_stop,board]\n",
    "          )"
   ]
  },
  {
   "cell_type": "markdown",
   "metadata": {},
   "source": [
    "# Running Tensorboard"
   ]
  },
  {
   "cell_type": "markdown",
   "metadata": {},
   "source": [
    "## Running through the Command Line\n",
    "\n",
    "**Watch video to see how to run Tensorboard through a command line call.**"
   ]
  },
  {
   "cell_type": "markdown",
   "metadata": {},
   "source": [
    "Tensorboard will run locally in your browser at [http://localhost:6006/](http://localhost:6006/)"
   ]
  },
  {
   "cell_type": "code",
   "execution_count": 19,
   "metadata": {},
   "outputs": [
    {
     "name": "stdout",
     "output_type": "stream",
     "text": [
      "logs\\fit\n"
     ]
    }
   ],
   "source": [
    "print(log_directory)"
   ]
  },
  {
   "cell_type": "code",
   "execution_count": 20,
   "metadata": {},
   "outputs": [
    {
     "data": {
      "text/plain": [
       "'C:\\\\Users\\\\user\\\\Desktop\\\\Tensorflow_Learning\\\\ANN'"
      ]
     },
     "execution_count": 20,
     "metadata": {},
     "output_type": "execute_result"
    }
   ],
   "source": [
    "pwd"
   ]
  },
  {
   "cell_type": "markdown",
   "metadata": {},
   "source": [
    "### Use cd at your command line to change directory to the file path reported back by pwd or your current .py file location.\n",
    "### Then run this code at your command line or terminal"
   ]
  },
  {
   "cell_type": "markdown",
   "metadata": {},
   "source": [
    "```tensorboard --logdir logs\\fit ```"
   ]
  },
  {
   "cell_type": "code",
   "execution_count": null,
   "metadata": {},
   "outputs": [],
   "source": []
  }
 ],
 "metadata": {
  "kernelspec": {
   "display_name": "Python 3.8.1 64-bit",
   "language": "python",
   "name": "python38164bitf6340f14c0b044d39ba52dc528b569bf"
  },
  "language_info": {
   "codemirror_mode": {
    "name": "ipython",
    "version": 3
   },
   "file_extension": ".py",
   "mimetype": "text/x-python",
   "name": "python",
   "nbconvert_exporter": "python",
   "pygments_lexer": "ipython3",
   "version": "3.8.1"
  }
 },
 "nbformat": 4,
 "nbformat_minor": 4
}
